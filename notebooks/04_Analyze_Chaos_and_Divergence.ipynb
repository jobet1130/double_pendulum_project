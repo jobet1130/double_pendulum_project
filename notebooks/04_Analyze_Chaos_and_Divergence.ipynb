{
 "cells": [
  {
   "cell_type": "code",
   "execution_count": 25,
   "id": "c3e11fc9",
   "metadata": {},
   "outputs": [],
   "source": [
    "import numpy as np\n",
    "import pandas as pd\n",
    "import seaborn as sns\n",
    "import matplotlib.pyplot as plt\n",
    "from scipy.integrate import solve_ivp\n",
    "from pathlib import Path\n",
    "import nolds\n",
    "\n",
    "sns.set_style(\"whitegrid\")\n",
    "sns.set_context(\"notebook\")\n",
    "sns.set_palette(\"muted\")\n",
    "%matplotlib inline\n",
    "\n",
    "DATA_PATH = Path(\"../data/processed/double_pendulum_processed.csv\")\n",
    "PLOT_DIR = Path(\"../plots\")"
   ]
  },
  {
   "cell_type": "code",
   "execution_count": 26,
   "id": "de901489",
   "metadata": {},
   "outputs": [
    {
     "data": {
      "application/vnd.microsoft.datawrangler.viewer.v0+json": {
       "columns": [
        {
         "name": "index",
         "rawType": "int64",
         "type": "integer"
        },
        {
         "name": "time",
         "rawType": "float64",
         "type": "float"
        },
        {
         "name": "theta1",
         "rawType": "float64",
         "type": "float"
        },
        {
         "name": "theta2",
         "rawType": "float64",
         "type": "float"
        },
        {
         "name": "omega1",
         "rawType": "float64",
         "type": "float"
        },
        {
         "name": "omega2",
         "rawType": "float64",
         "type": "float"
        },
        {
         "name": "x1",
         "rawType": "float64",
         "type": "float"
        },
        {
         "name": "y1",
         "rawType": "float64",
         "type": "float"
        },
        {
         "name": "x2",
         "rawType": "float64",
         "type": "float"
        },
        {
         "name": "y2",
         "rawType": "float64",
         "type": "float"
        },
        {
         "name": "KE",
         "rawType": "float64",
         "type": "float"
        },
        {
         "name": "PE",
         "rawType": "float64",
         "type": "float"
        },
        {
         "name": "TME",
         "rawType": "float64",
         "type": "float"
        }
       ],
       "ref": "93b2a0a4-97c4-42ca-bc2f-44bead55025b",
       "rows": [
        [
         "0",
         "0.0",
         "2.094395102393196",
         "-0.1745329251994329",
         "0.0",
         "0.0",
         "0.8660254037844387",
         "0.4999999999999998",
         "0.6923772261175084",
         "-0.4848077530122082",
         "0.0",
         "29.57903594295025",
         "29.57903594295025"
        ],
        [
         "1",
         "0.01",
         "2.0938941966587983",
         "-0.174296237589579",
         "-0.1001846033377586",
         "0.0473169472864722",
         "0.8662757479954409",
         "0.4995661402006137",
         "0.6928606669835347",
         "-0.4852826855983685",
         "0.0142008115943223",
         "29.57012068964803",
         "29.58432150124235"
        ],
        [
         "2",
         "0.02",
         "2.092391330478572",
         "-0.1735876341994195",
         "-0.2004098279401304",
         "0.0943845761702253",
         "0.8670255504817705",
         "0.4982636800046566",
         "0.6943083801656993",
         "-0.4867077810428243",
         "0.0567342491287884",
         "29.543363368815577",
         "29.600097617944368"
        ],
        [
         "3",
         "0.03",
         "2.089886014080696",
         "-0.1724113169489172",
         "-0.300715204422614",
         "0.1409497009037183",
         "0.8682711363545885",
         "0.496089945245327",
         "0.6967127241884782",
         "-0.4890840044788031",
         "0.1273921659831468",
         "29.4987282789196",
         "29.62612044490275"
        ],
        [
         "4",
         "0.04",
         "2.0863770258256533",
         "-0.1707727566641871",
         "-0.4011441041053564",
         "0.1867667467606151",
         "0.8700065610683968",
         "0.4930401441038466",
         "0.7000626453943098",
         "-0.4924135917586538",
         "0.2258360868534211",
         "29.436146478506345",
         "29.661982565359764"
        ]
       ],
       "shape": {
        "columns": 12,
        "rows": 5
       }
      },
      "text/html": [
       "<div>\n",
       "<style scoped>\n",
       "    .dataframe tbody tr th:only-of-type {\n",
       "        vertical-align: middle;\n",
       "    }\n",
       "\n",
       "    .dataframe tbody tr th {\n",
       "        vertical-align: top;\n",
       "    }\n",
       "\n",
       "    .dataframe thead th {\n",
       "        text-align: right;\n",
       "    }\n",
       "</style>\n",
       "<table border=\"1\" class=\"dataframe\">\n",
       "  <thead>\n",
       "    <tr style=\"text-align: right;\">\n",
       "      <th></th>\n",
       "      <th>time</th>\n",
       "      <th>theta1</th>\n",
       "      <th>theta2</th>\n",
       "      <th>omega1</th>\n",
       "      <th>omega2</th>\n",
       "      <th>x1</th>\n",
       "      <th>y1</th>\n",
       "      <th>x2</th>\n",
       "      <th>y2</th>\n",
       "      <th>KE</th>\n",
       "      <th>PE</th>\n",
       "      <th>TME</th>\n",
       "    </tr>\n",
       "  </thead>\n",
       "  <tbody>\n",
       "    <tr>\n",
       "      <th>0</th>\n",
       "      <td>0.00</td>\n",
       "      <td>2.094395</td>\n",
       "      <td>-0.174533</td>\n",
       "      <td>0.000000</td>\n",
       "      <td>0.000000</td>\n",
       "      <td>0.866025</td>\n",
       "      <td>0.500000</td>\n",
       "      <td>0.692377</td>\n",
       "      <td>-0.484808</td>\n",
       "      <td>0.000000</td>\n",
       "      <td>29.579036</td>\n",
       "      <td>29.579036</td>\n",
       "    </tr>\n",
       "    <tr>\n",
       "      <th>1</th>\n",
       "      <td>0.01</td>\n",
       "      <td>2.093894</td>\n",
       "      <td>-0.174296</td>\n",
       "      <td>-0.100185</td>\n",
       "      <td>0.047317</td>\n",
       "      <td>0.866276</td>\n",
       "      <td>0.499566</td>\n",
       "      <td>0.692861</td>\n",
       "      <td>-0.485283</td>\n",
       "      <td>0.014201</td>\n",
       "      <td>29.570121</td>\n",
       "      <td>29.584322</td>\n",
       "    </tr>\n",
       "    <tr>\n",
       "      <th>2</th>\n",
       "      <td>0.02</td>\n",
       "      <td>2.092391</td>\n",
       "      <td>-0.173588</td>\n",
       "      <td>-0.200410</td>\n",
       "      <td>0.094385</td>\n",
       "      <td>0.867026</td>\n",
       "      <td>0.498264</td>\n",
       "      <td>0.694308</td>\n",
       "      <td>-0.486708</td>\n",
       "      <td>0.056734</td>\n",
       "      <td>29.543363</td>\n",
       "      <td>29.600098</td>\n",
       "    </tr>\n",
       "    <tr>\n",
       "      <th>3</th>\n",
       "      <td>0.03</td>\n",
       "      <td>2.089886</td>\n",
       "      <td>-0.172411</td>\n",
       "      <td>-0.300715</td>\n",
       "      <td>0.140950</td>\n",
       "      <td>0.868271</td>\n",
       "      <td>0.496090</td>\n",
       "      <td>0.696713</td>\n",
       "      <td>-0.489084</td>\n",
       "      <td>0.127392</td>\n",
       "      <td>29.498728</td>\n",
       "      <td>29.626120</td>\n",
       "    </tr>\n",
       "    <tr>\n",
       "      <th>4</th>\n",
       "      <td>0.04</td>\n",
       "      <td>2.086377</td>\n",
       "      <td>-0.170773</td>\n",
       "      <td>-0.401144</td>\n",
       "      <td>0.186767</td>\n",
       "      <td>0.870007</td>\n",
       "      <td>0.493040</td>\n",
       "      <td>0.700063</td>\n",
       "      <td>-0.492414</td>\n",
       "      <td>0.225836</td>\n",
       "      <td>29.436146</td>\n",
       "      <td>29.661983</td>\n",
       "    </tr>\n",
       "  </tbody>\n",
       "</table>\n",
       "</div>"
      ],
      "text/plain": [
       "   time    theta1    theta2    omega1    omega2        x1        y1        x2  \\\n",
       "0  0.00  2.094395 -0.174533  0.000000  0.000000  0.866025  0.500000  0.692377   \n",
       "1  0.01  2.093894 -0.174296 -0.100185  0.047317  0.866276  0.499566  0.692861   \n",
       "2  0.02  2.092391 -0.173588 -0.200410  0.094385  0.867026  0.498264  0.694308   \n",
       "3  0.03  2.089886 -0.172411 -0.300715  0.140950  0.868271  0.496090  0.696713   \n",
       "4  0.04  2.086377 -0.170773 -0.401144  0.186767  0.870007  0.493040  0.700063   \n",
       "\n",
       "         y2        KE         PE        TME  \n",
       "0 -0.484808  0.000000  29.579036  29.579036  \n",
       "1 -0.485283  0.014201  29.570121  29.584322  \n",
       "2 -0.486708  0.056734  29.543363  29.600098  \n",
       "3 -0.489084  0.127392  29.498728  29.626120  \n",
       "4 -0.492414  0.225836  29.436146  29.661983  "
      ]
     },
     "execution_count": 26,
     "metadata": {},
     "output_type": "execute_result"
    }
   ],
   "source": [
    "if not DATA_PATH.exists():\n",
    "    raise FileNotFoundError(f\"❌ Processed data not found at: {DATA_PATH}\")\n",
    "\n",
    "df = pd.read_csv(DATA_PATH)\n",
    "df.head()"
   ]
  },
  {
   "cell_type": "code",
   "execution_count": 27,
   "id": "204f3b7d",
   "metadata": {},
   "outputs": [],
   "source": [
    "g = 9.81\n",
    "L1 = L2 = 1.0\n",
    "m1 = m2 = 1.0\n",
    "\n",
    "def derivatives(t, y):\n",
    "    θ1, θ2, ω1, ω2 = y\n",
    "    Δ = θ2 - θ1\n",
    "    denom = (2*m1 + m2 - m2 * np.cos(2*Δ))\n",
    "\n",
    "    dω1_dt = (\n",
    "        -g*(2*m1 + m2)*np.sin(θ1)\n",
    "        - m2*g*np.sin(θ1 - 2*θ2)\n",
    "        - 2*np.sin(Δ)*m2*(ω2**2*L2 + ω1**2*L1*np.cos(Δ))\n",
    "    ) / (L1 * denom)\n",
    "\n",
    "    dω2_dt = (\n",
    "        2*np.sin(Δ) * (\n",
    "            ω1**2 * L1 * (m1 + m2)\n",
    "            + g * (m1 + m2) * np.cos(θ1)\n",
    "            + ω2**2 * L2 * m2 * np.cos(Δ)\n",
    "        )\n",
    "    ) / (L2 * denom)\n",
    "\n",
    "    return [ω1, ω2, dω1_dt, dω2_dt]"
   ]
  },
  {
   "cell_type": "code",
   "execution_count": 28,
   "id": "b413fa85",
   "metadata": {},
   "outputs": [],
   "source": [
    "theta1_0 = df[\"theta1\"].iloc[0]\n",
    "theta2_0 = df[\"theta2\"].iloc[0]\n",
    "omega1_0 = df[\"omega1\"].iloc[0]\n",
    "omega2_0 = df[\"omega2\"].iloc[0]\n",
    "\n",
    "t_eval = df[\"time\"].values\n",
    "t_start, t_end = t_eval[0], t_eval[-1]\n",
    "\n",
    "delta = 1e-6\n",
    "initial_perturbed = [theta1_0 + delta, theta2_0, omega1_0, omega2_0]\n",
    "\n",
    "sol_perturbed = solve_ivp(\n",
    "    derivatives,\n",
    "    [t_start, t_end],\n",
    "    initial_perturbed,\n",
    "    t_eval=t_eval,\n",
    "    method=\"RK45\"\n",
    ")\n"
   ]
  },
  {
   "cell_type": "code",
   "execution_count": 29,
   "id": "03959040",
   "metadata": {},
   "outputs": [
    {
     "data": {
      "image/png": "[encoded data removed]",
      "text/plain": [
       "<Figure size 1200x500 with 1 Axes>"
      ]
     },
     "metadata": {},
     "output_type": "display_data"
    },
    {
     "name": "stdout",
     "output_type": "stream",
     "text": [
      "✅ Saved: ..\\plots\\divergence_plot.png\n"
     ]
    }
   ],
   "source": [
    "original_theta1 = df[\"theta1\"].values\n",
    "perturbed_theta1 = sol_perturbed.y[0]\n",
    "\n",
    "divergence = np.abs(original_theta1 - perturbed_theta1)\n",
    "divergence[divergence == 0] = 1e-20  \n",
    "\n",
    "plt.figure(figsize=(12, 5))\n",
    "sns.lineplot(x=t_eval, y=divergence, color=\"crimson\", label=r\"|$\\Delta\\theta_1(t)$|\")\n",
    "plt.yscale(\"log\")\n",
    "plt.xlabel(\"Time (s)\")\n",
    "plt.ylabel(\"Divergence (log scale)\")\n",
    "plt.title(\"Chaotic Divergence Over Time\")\n",
    "plt.legend()\n",
    "plt.tight_layout()\n",
    "\n",
    "divergence_plot = PLOT_DIR / \"divergence_plot.png\"\n",
    "plt.savefig(divergence_plot, dpi=300)\n",
    "plt.show()\n",
    "\n",
    "print(f\"✅ Saved: {divergence_plot}\")"
   ]
  },
  {
   "cell_type": "code",
   "execution_count": 30,
   "id": "4ce94e99",
   "metadata": {},
   "outputs": [
    {
     "name": "stdout",
     "output_type": "stream",
     "text": [
      "Estimated Largest Lyapunov Exponent: 0.0025\n"
     ]
    }
   ],
   "source": [
    "lyap = nolds.lyap_r(\n",
    "    original_theta1,\n",
    "    emb_dim=10,\n",
    "    lag=50,\n",
    "    min_tsep=100\n",
    ")\n",
    "\n",
    "print(f\"Estimated Largest Lyapunov Exponent: {lyap:.4f}\")\n"
   ]
  },
  {
   "cell_type": "code",
   "execution_count": 31,
   "id": "43b164e7",
   "metadata": {},
   "outputs": [],
   "source": [
    "m1 = m2 = 1.0\n",
    "l1 = l2 = 1.0\n",
    "g = 9.81\n",
    "t_span = (0, 20)\n",
    "n_steps = 50_000\n",
    "t_eval = np.linspace(*t_span, n_steps)"
   ]
  },
  {
   "cell_type": "code",
   "execution_count": 32,
   "id": "900d9c9b",
   "metadata": {},
   "outputs": [],
   "source": [
    "def double_pendulum_ode(t, y, m1, m2, l1, l2, g):\n",
    "    θ1, ω1, θ2, ω2 = y\n",
    "    Δ = θ2 - θ1\n",
    "\n",
    "    den1 = (m1 + m2) * l1 - m2 * l1 * np.cos(Δ)**2\n",
    "    den2 = (l2 / l1) * den1\n",
    "\n",
    "    dydt = np.zeros_like(y)\n",
    "    dydt[0] = ω1\n",
    "    dydt[1] = (\n",
    "        m2 * l1 * ω1**2 * np.sin(Δ) * np.cos(Δ)\n",
    "        + m2 * g * np.sin(θ2) * np.cos(Δ)\n",
    "        + m2 * l2 * ω2**2 * np.sin(Δ)\n",
    "        - (m1 + m2) * g * np.sin(θ1)\n",
    "    ) / den1\n",
    "    dydt[2] = ω2\n",
    "    dydt[3] = (\n",
    "        -m2 * l2 * ω2**2 * np.sin(Δ) * np.cos(Δ)\n",
    "        + (m1 + m2) * g * np.sin(θ1) * np.cos(Δ)\n",
    "        - (m1 + m2) * l1 * ω1**2 * np.sin(Δ)\n",
    "        - (m1 + m2) * g * np.sin(θ2)\n",
    "    ) / den2\n",
    "    return dydt"
   ]
  },
  {
   "cell_type": "code",
   "execution_count": 33,
   "id": "89d9968f",
   "metadata": {},
   "outputs": [],
   "source": [
    "y0_main = [np.pi / 2, 0, np.pi / 2, 0]\n",
    "y0_perturbed = [np.pi / 2 + 1e-6, 0, np.pi / 2, 0]"
   ]
  },
  {
   "cell_type": "code",
   "execution_count": 34,
   "id": "def8503c",
   "metadata": {},
   "outputs": [],
   "source": [
    "sol_main = solve_ivp(double_pendulum_ode, t_span, y0_main, t_eval=t_eval, args=(m1, m2, l1, l2, g), rtol=1e-9, atol=1e-9)\n",
    "sol_perturbed = solve_ivp(double_pendulum_ode, t_span, y0_perturbed, t_eval=t_eval, args=(m1, m2, l1, l2, g), rtol=1e-9, atol=1e-9)"
   ]
  },
  {
   "cell_type": "code",
   "execution_count": 35,
   "id": "acb1fd2a",
   "metadata": {},
   "outputs": [],
   "source": [
    "θ1_main, θ2_main = sol_main.y[0], sol_main.y[2]\n",
    "θ1_pert, θ2_pert = sol_perturbed.y[0], sol_perturbed.y[2]\n",
    "\n",
    "t = sol_main.t[:len(divergence)]"
   ]
  },
  {
   "cell_type": "code",
   "execution_count": 36,
   "id": "00fe3b9c",
   "metadata": {},
   "outputs": [],
   "source": [
    "df_div = pd.DataFrame({\n",
    "    \"time\": t,\n",
    "    \"divergence\": divergence,\n",
    "    \"log_divergence\": np.log(divergence + 1e-12)  # avoid log(0)\n",
    "})"
   ]
  },
  {
   "cell_type": "code",
   "execution_count": 37,
   "id": "56b8b850",
   "metadata": {},
   "outputs": [
    {
     "name": "stdout",
     "output_type": "stream",
     "text": [
      "✅ Divergence data saved to: ..\\data\\processed\\divergence_analysis.csv\n"
     ]
    }
   ],
   "source": [
    "output_path = Path(\"../data/processed/divergence_analysis.csv\")\n",
    "output_path.parent.mkdir(parents=True, exist_ok=True)\n",
    "df_div.to_csv(output_path, index=False)\n",
    "print(f\"✅ Divergence data saved to: {output_path}\")"
   ]
  },
  {
   "cell_type": "code",
   "execution_count": null,
   "id": "1ed5127e",
   "metadata": {},
   "outputs": [
    {
     "ename": "ValueError",
     "evalue": "x and y must have same first dimension, but have shapes (50000,) and (5000,)",
     "output_type": "error",
     "traceback": [
      "\u001b[1;31m---------------------------------------------------------------------------\u001b[0m",
      "\u001b[1;31mValueError\u001b[0m                                Traceback (most recent call last)",
      "Cell \u001b[1;32mIn[38], line 2\u001b[0m\n\u001b[0;32m      1\u001b[0m plt\u001b[38;5;241m.\u001b[39mfigure(figsize\u001b[38;5;241m=\u001b[39m(\u001b[38;5;241m12\u001b[39m, \u001b[38;5;241m6\u001b[39m))\n\u001b[1;32m----> 2\u001b[0m plt\u001b[38;5;241m.\u001b[39mplot(t_eval, divergence, label\u001b[38;5;241m=\u001b[39m\u001b[38;5;124m\"\u001b[39m\u001b[38;5;124mDivergence\u001b[39m\u001b[38;5;124m\"\u001b[39m, color\u001b[38;5;241m=\u001b[39m\u001b[38;5;124m\"\u001b[39m\u001b[38;5;124mcrimson\u001b[39m\u001b[38;5;124m\"\u001b[39m)\n\u001b[0;32m      3\u001b[0m plt\u001b[38;5;241m.\u001b[39myscale(\u001b[38;5;124m\"\u001b[39m\u001b[38;5;124mlog\u001b[39m\u001b[38;5;124m\"\u001b[39m)\n\u001b[0;32m      4\u001b[0m plt\u001b[38;5;241m.\u001b[39mxlabel(\u001b[38;5;124m\"\u001b[39m\u001b[38;5;124mTime (s)\u001b[39m\u001b[38;5;124m\"\u001b[39m)\n",
      "File \u001b[1;32mc:\\Users\\admin\\anaconda3\\Lib\\site-packages\\matplotlib\\pyplot.py:3794\u001b[0m, in \u001b[0;36mplot\u001b[1;34m(scalex, scaley, data, *args, **kwargs)\u001b[0m\n\u001b[0;32m   3786\u001b[0m \u001b[38;5;129m@_copy_docstring_and_deprecators\u001b[39m(Axes\u001b[38;5;241m.\u001b[39mplot)\n\u001b[0;32m   3787\u001b[0m \u001b[38;5;28;01mdef\u001b[39;00m \u001b[38;5;21mplot\u001b[39m(\n\u001b[0;32m   3788\u001b[0m     \u001b[38;5;241m*\u001b[39margs: \u001b[38;5;28mfloat\u001b[39m \u001b[38;5;241m|\u001b[39m ArrayLike \u001b[38;5;241m|\u001b[39m \u001b[38;5;28mstr\u001b[39m,\n\u001b[1;32m   (...)\u001b[0m\n\u001b[0;32m   3792\u001b[0m     \u001b[38;5;241m*\u001b[39m\u001b[38;5;241m*\u001b[39mkwargs,\n\u001b[0;32m   3793\u001b[0m ) \u001b[38;5;241m-\u001b[39m\u001b[38;5;241m>\u001b[39m \u001b[38;5;28mlist\u001b[39m[Line2D]:\n\u001b[1;32m-> 3794\u001b[0m     \u001b[38;5;28;01mreturn\u001b[39;00m gca()\u001b[38;5;241m.\u001b[39mplot(\n\u001b[0;32m   3795\u001b[0m         \u001b[38;5;241m*\u001b[39margs,\n\u001b[0;32m   3796\u001b[0m         scalex\u001b[38;5;241m=\u001b[39mscalex,\n\u001b[0;32m   3797\u001b[0m         scaley\u001b[38;5;241m=\u001b[39mscaley,\n\u001b[0;32m   3798\u001b[0m         \u001b[38;5;241m*\u001b[39m\u001b[38;5;241m*\u001b[39m({\u001b[38;5;124m\"\u001b[39m\u001b[38;5;124mdata\u001b[39m\u001b[38;5;124m\"\u001b[39m: data} \u001b[38;5;28;01mif\u001b[39;00m data \u001b[38;5;129;01mis\u001b[39;00m \u001b[38;5;129;01mnot\u001b[39;00m \u001b[38;5;28;01mNone\u001b[39;00m \u001b[38;5;28;01melse\u001b[39;00m {}),\n\u001b[0;32m   3799\u001b[0m         \u001b[38;5;241m*\u001b[39m\u001b[38;5;241m*\u001b[39mkwargs,\n\u001b[0;32m   3800\u001b[0m     )\n",
      "File \u001b[1;32mc:\\Users\\admin\\anaconda3\\Lib\\site-packages\\matplotlib\\axes\\_axes.py:1779\u001b[0m, in \u001b[0;36mAxes.plot\u001b[1;34m(self, scalex, scaley, data, *args, **kwargs)\u001b[0m\n\u001b[0;32m   1536\u001b[0m \u001b[38;5;250m\u001b[39m\u001b[38;5;124;03m\"\"\"\u001b[39;00m\n\u001b[0;32m   1537\u001b[0m \u001b[38;5;124;03mPlot y versus x as lines and/or markers.\u001b[39;00m\n\u001b[0;32m   1538\u001b[0m \n\u001b[1;32m   (...)\u001b[0m\n\u001b[0;32m   1776\u001b[0m \u001b[38;5;124;03m(``'green'``) or hex strings (``'#008000'``).\u001b[39;00m\n\u001b[0;32m   1777\u001b[0m \u001b[38;5;124;03m\"\"\"\u001b[39;00m\n\u001b[0;32m   1778\u001b[0m kwargs \u001b[38;5;241m=\u001b[39m cbook\u001b[38;5;241m.\u001b[39mnormalize_kwargs(kwargs, mlines\u001b[38;5;241m.\u001b[39mLine2D)\n\u001b[1;32m-> 1779\u001b[0m lines \u001b[38;5;241m=\u001b[39m [\u001b[38;5;241m*\u001b[39m\u001b[38;5;28mself\u001b[39m\u001b[38;5;241m.\u001b[39m_get_lines(\u001b[38;5;28mself\u001b[39m, \u001b[38;5;241m*\u001b[39margs, data\u001b[38;5;241m=\u001b[39mdata, \u001b[38;5;241m*\u001b[39m\u001b[38;5;241m*\u001b[39mkwargs)]\n\u001b[0;32m   1780\u001b[0m \u001b[38;5;28;01mfor\u001b[39;00m line \u001b[38;5;129;01min\u001b[39;00m lines:\n\u001b[0;32m   1781\u001b[0m     \u001b[38;5;28mself\u001b[39m\u001b[38;5;241m.\u001b[39madd_line(line)\n",
      "File \u001b[1;32mc:\\Users\\admin\\anaconda3\\Lib\\site-packages\\matplotlib\\axes\\_base.py:296\u001b[0m, in \u001b[0;36m_process_plot_var_args.__call__\u001b[1;34m(self, axes, data, *args, **kwargs)\u001b[0m\n\u001b[0;32m    294\u001b[0m     this \u001b[38;5;241m+\u001b[39m\u001b[38;5;241m=\u001b[39m args[\u001b[38;5;241m0\u001b[39m],\n\u001b[0;32m    295\u001b[0m     args \u001b[38;5;241m=\u001b[39m args[\u001b[38;5;241m1\u001b[39m:]\n\u001b[1;32m--> 296\u001b[0m \u001b[38;5;28;01myield from\u001b[39;00m \u001b[38;5;28mself\u001b[39m\u001b[38;5;241m.\u001b[39m_plot_args(\n\u001b[0;32m    297\u001b[0m     axes, this, kwargs, ambiguous_fmt_datakey\u001b[38;5;241m=\u001b[39mambiguous_fmt_datakey)\n",
      "File \u001b[1;32mc:\\Users\\admin\\anaconda3\\Lib\\site-packages\\matplotlib\\axes\\_base.py:486\u001b[0m, in \u001b[0;36m_process_plot_var_args._plot_args\u001b[1;34m(self, axes, tup, kwargs, return_kwargs, ambiguous_fmt_datakey)\u001b[0m\n\u001b[0;32m    483\u001b[0m     axes\u001b[38;5;241m.\u001b[39myaxis\u001b[38;5;241m.\u001b[39mupdate_units(y)\n\u001b[0;32m    485\u001b[0m \u001b[38;5;28;01mif\u001b[39;00m x\u001b[38;5;241m.\u001b[39mshape[\u001b[38;5;241m0\u001b[39m] \u001b[38;5;241m!=\u001b[39m y\u001b[38;5;241m.\u001b[39mshape[\u001b[38;5;241m0\u001b[39m]:\n\u001b[1;32m--> 486\u001b[0m     \u001b[38;5;28;01mraise\u001b[39;00m \u001b[38;5;167;01mValueError\u001b[39;00m(\u001b[38;5;124mf\u001b[39m\u001b[38;5;124m\"\u001b[39m\u001b[38;5;124mx and y must have same first dimension, but \u001b[39m\u001b[38;5;124m\"\u001b[39m\n\u001b[0;32m    487\u001b[0m                      \u001b[38;5;124mf\u001b[39m\u001b[38;5;124m\"\u001b[39m\u001b[38;5;124mhave shapes \u001b[39m\u001b[38;5;132;01m{\u001b[39;00mx\u001b[38;5;241m.\u001b[39mshape\u001b[38;5;132;01m}\u001b[39;00m\u001b[38;5;124m and \u001b[39m\u001b[38;5;132;01m{\u001b[39;00my\u001b[38;5;241m.\u001b[39mshape\u001b[38;5;132;01m}\u001b[39;00m\u001b[38;5;124m\"\u001b[39m)\n\u001b[0;32m    488\u001b[0m \u001b[38;5;28;01mif\u001b[39;00m x\u001b[38;5;241m.\u001b[39mndim \u001b[38;5;241m>\u001b[39m \u001b[38;5;241m2\u001b[39m \u001b[38;5;129;01mor\u001b[39;00m y\u001b[38;5;241m.\u001b[39mndim \u001b[38;5;241m>\u001b[39m \u001b[38;5;241m2\u001b[39m:\n\u001b[0;32m    489\u001b[0m     \u001b[38;5;28;01mraise\u001b[39;00m \u001b[38;5;167;01mValueError\u001b[39;00m(\u001b[38;5;124mf\u001b[39m\u001b[38;5;124m\"\u001b[39m\u001b[38;5;124mx and y can be no greater than 2D, but have \u001b[39m\u001b[38;5;124m\"\u001b[39m\n\u001b[0;32m    490\u001b[0m                      \u001b[38;5;124mf\u001b[39m\u001b[38;5;124m\"\u001b[39m\u001b[38;5;124mshapes \u001b[39m\u001b[38;5;132;01m{\u001b[39;00mx\u001b[38;5;241m.\u001b[39mshape\u001b[38;5;132;01m}\u001b[39;00m\u001b[38;5;124m and \u001b[39m\u001b[38;5;132;01m{\u001b[39;00my\u001b[38;5;241m.\u001b[39mshape\u001b[38;5;132;01m}\u001b[39;00m\u001b[38;5;124m\"\u001b[39m)\n",
      "\u001b[1;31mValueError\u001b[0m: x and y must have same first dimension, but have shapes (50000,) and (5000,)"
     ]
    }
   ],
   "source": [
    "t_div = sol_main.t[:len(divergence)]\n",
    "\n",
    "plt.figure(figsize=(12, 6))\n",
    "plt.plot(t_div, divergence, label=\"Divergence\", color=\"crimson\")\n",
    "plt.yscale(\"log\")\n",
    "plt.xlabel(\"Time (s)\")\n",
    "plt.ylabel(\"Divergence (log scale)\")\n",
    "plt.title(\"Exponential Divergence in Double Pendulum (Chaos)\")\n",
    "plt.grid(True, linestyle=\"--\", alpha=0.6)\n",
    "plt.legend()\n",
    "plt.tight_layout()\n",
    "plt.show()"
   ]
  }
 ],
 "metadata": {
  "kernelspec": {
   "display_name": "base",
   "language": "python",
   "name": "python3"
  },
  "language_info": {
   "codemirror_mode": {
    "name": "ipython",
    "version": 3
   },
   "file_extension": ".py",
   "mimetype": "text/x-python",
   "name": "python",
   "nbconvert_exporter": "python",
   "pygments_lexer": "ipython3",
   "version": "3.12.7"
  }
 },
 "nbformat": 4,
 "nbformat_minor": 5
}
