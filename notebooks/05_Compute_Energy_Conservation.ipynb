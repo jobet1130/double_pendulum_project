{
 "cells": [
  {
   "cell_type": "code",
   "execution_count": null,
   "id": "57db878f",
   "metadata": {},
   "outputs": [],
   "source": [
    "import numpy as np\n",
    "import pandas as pd\n",
    "import matplotlib.pyplot as plt\n",
    "import seaborn as sns\n",
    "from pathlib import Path\n",
    "\n",
    "sns.set_style(\"whitegrid\")\n",
    "sns.set_context(\"notebook\")\n",
    "sns.set_palette(\"muted\")"
   ]
  },
  {
   "cell_type": "code",
   "execution_count": null,
   "id": "659c4ef1",
   "metadata": {},
   "outputs": [],
   "source": [
    "DATA_PATH = Path(\"../data/processed/double_pendulum_processed.csv\")\n",
    "PLOT_DIR = Path(\"../plots\")\n",
    "RESULTS_DIR = Path(\"../results\")\n",
    "RESULTS_DIR.mkdir(parents=True, exist_ok=True)\n",
    "\n",
    "RESULTS_PATH = RESULTS_DIR / \"energy_stats.csv\""
   ]
  },
  {
   "cell_type": "code",
   "execution_count": null,
   "id": "7723a44a",
   "metadata": {},
   "outputs": [],
   "source": [
    "if not DATA_PATH.exists():\n",
    "    raise FileNotFoundError(f\"❌ Processed data not found at: {DATA_PATH}\")\n",
    "\n",
    "df = pd.read_csv(DATA_PATH)\n",
    "df.head()"
   ]
  },
  {
   "cell_type": "code",
   "execution_count": null,
   "id": "072419c3",
   "metadata": {},
   "outputs": [],
   "source": [
    "g = 9.81\n",
    "L1 = 1.0\n",
    "L2 = 1.0\n",
    "m1 = 1.0\n",
    "m2 = 1.0"
   ]
  },
  {
   "cell_type": "code",
   "execution_count": null,
   "id": "4c05a465",
   "metadata": {},
   "outputs": [],
   "source": [
    "theta1 = df[\"theta1\"].values\n",
    "theta2 = df[\"theta2\"].values\n",
    "omega1 = df[\"omega1\"].values\n",
    "omega2 = df[\"omega2\"].values"
   ]
  },
  {
   "cell_type": "code",
   "execution_count": null,
   "id": "e2405ae4",
   "metadata": {},
   "outputs": [],
   "source": [
    "x1 = L1 * np.sin(theta1)\n",
    "y1 = -L1 * np.cos(theta1)\n",
    "x2 = x1 + L2 * np.sin(theta2)\n",
    "y2 = y1 - L2 * np.cos(theta2)\n",
    "\n",
    "vx1 = L1 * omega1 * np.cos(theta1)\n",
    "vy1 = L1 * omega1 * np.sin(theta1)\n",
    "vx2 = vx1 + L2 * omega2 * np.cos(theta2)\n",
    "vy2 = vy1 + L2 * omega2 * np.sin(theta2)"
   ]
  },
  {
   "cell_type": "code",
   "execution_count": null,
   "id": "3ade3c0c",
   "metadata": {},
   "outputs": [],
   "source": [
    "KE1 = 0.5 * m1 * (vx1**2 + vy1**2)\n",
    "KE2 = 0.5 * m2 * (vx2**2 + vy2**2)\n",
    "KE_total = KE1 + KE2\n",
    "\n",
    "PE1 = m1 * g * (y1 + L1 + L2)\n",
    "PE2 = m2 * g * (y2 + L1 + L2)\n",
    "PE_total = PE1 + PE2\n",
    "\n",
    "TME = KE_total + PE_total"
   ]
  },
  {
   "cell_type": "code",
   "execution_count": null,
   "id": "17eb872f",
   "metadata": {},
   "outputs": [],
   "source": [
    "df[\"KE\"] = KE_total\n",
    "df[\"PE\"] = PE_total\n",
    "df[\"TME\"] = TME"
   ]
  },
  {
   "cell_type": "code",
   "execution_count": null,
   "id": "eb453af7",
   "metadata": {},
   "outputs": [],
   "source": [
    "fig, ax = plt.subplots(figsize=(12, 5))\n",
    "t = df[\"time\"]\n",
    "\n",
    "sns.lineplot(x=t, y=df[\"KE\"], label=\"Kinetic Energy\", ax=ax)\n",
    "sns.lineplot(x=t, y=df[\"PE\"], label=\"Potential Energy\", ax=ax)\n",
    "sns.lineplot(x=t, y=df[\"TME\"], label=\"Total Mechanical Energy\", ax=ax)\n",
    "\n",
    "ax.set_title(\"Energy Conservation Over Time\")\n",
    "ax.set_xlabel(\"Time (s)\")\n",
    "ax.set_ylabel(\"Energy (Joules)\")\n",
    "plt.tight_layout()\n",
    "\n",
    "energy_plot = PLOT_DIR / \"energy_conservation.png\"\n",
    "plt.savefig(energy_plot, dpi=300)\n",
    "plt.show()\n",
    "\n",
    "print(f\"✅ Saved plot: {energy_plot}\")"
   ]
  },
  {
   "cell_type": "code",
   "execution_count": null,
   "id": "b9991458",
   "metadata": {},
   "outputs": [],
   "source": [
    "energy_stats = {\n",
    "    \"KE_mean\": np.mean(KE_total),\n",
    "    \"PE_mean\": np.mean(PE_total),\n",
    "    \"TME_mean\": np.mean(TME),\n",
    "    \"TME_std\": np.std(TME)\n",
    "}\n",
    "\n",
    "pd.DataFrame([energy_stats]).to_csv(RESULTS_PATH, index=False)\n",
    "print(f\"✅ Saved stats: {RESULTS_PATH}\")"
   ]
  }
 ],
 "metadata": {
  "language_info": {
   "name": "python"
  }
 },
 "nbformat": 4,
 "nbformat_minor": 5
}
