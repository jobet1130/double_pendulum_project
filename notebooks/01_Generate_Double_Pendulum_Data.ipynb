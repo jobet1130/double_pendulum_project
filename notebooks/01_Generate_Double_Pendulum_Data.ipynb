{
 "cells": [
  {
   "cell_type": "code",
   "execution_count": null,
   "id": "5e27d3be",
   "metadata": {},
   "outputs": [],
   "source": [
    "import numpy as np\n",
    "import pandas as pd\n",
    "from scipy.integrate import solve_ivp\n",
    "from pathlib import Path\n",
    "\n",
    "pd.set_option('display.max_columns', None)\n",
    "%matplotlib inline"
   ]
  },
  {
   "cell_type": "code",
   "execution_count": 7,
   "id": "c0672dd1",
   "metadata": {},
   "outputs": [],
   "source": [
    "CONFIG = {\n",
    "    \"g\": 9.81,\n",
    "    \"L1\": 1.0,\n",
    "    \"L2\": 1.0,\n",
    "    \"m1\": 1.0,\n",
    "    \"m2\": 1.0,\n",
    "    \"theta1_deg\": 120,\n",
    "    \"theta2_deg\": -10,\n",
    "    \"omega1_0\": 0.0,\n",
    "    \"omega2_0\": 0.0,\n",
    "    \"t_start\": 0,\n",
    "    \"t_end\": 50,\n",
    "    \"num_points\": 5000,\n",
    "    \"output_path\": \"../data/raw/double_pendulum_simulation.csv\"\n",
    "}\n"
   ]
  },
  {
   "cell_type": "code",
   "execution_count": 8,
   "id": "cd71d647",
   "metadata": {},
   "outputs": [],
   "source": [
    "def double_pendulum_derivatives(t, y, cfg):\n",
    "    θ1, θ2, ω1, ω2 = y\n",
    "    Δ = θ2 - θ1\n",
    "    m1, m2, L1, L2, g = cfg[\"m1\"], cfg[\"m2\"], cfg[\"L1\"], cfg[\"L2\"], cfg[\"g\"]\n",
    "\n",
    "    denom = (2 * m1 + m2 - m2 * np.cos(2 * Δ))\n",
    "\n",
    "    dω1_dt = (\n",
    "        -g * (2 * m1 + m2) * np.sin(θ1)\n",
    "        - m2 * g * np.sin(θ1 - 2 * θ2)\n",
    "        - 2 * np.sin(Δ) * m2 * (ω2**2 * L2 + ω1**2 * L1 * np.cos(Δ))\n",
    "    ) / (L1 * denom)\n",
    "\n",
    "    dω2_dt = (\n",
    "        2 * np.sin(Δ) * (\n",
    "            ω1**2 * L1 * (m1 + m2)\n",
    "            + g * (m1 + m2) * np.cos(θ1)\n",
    "            + ω2**2 * L2 * m2 * np.cos(Δ)\n",
    "        )\n",
    "    ) / (L2 * denom)\n",
    "\n",
    "    return [ω1, ω2, dω1_dt, dω2_dt]\n"
   ]
  },
  {
   "cell_type": "code",
   "execution_count": 9,
   "id": "9b143d0d",
   "metadata": {},
   "outputs": [],
   "source": [
    "def run_simulation(cfg):\n",
    "    print(\"🔧 Running simulation...\")\n",
    "    \n",
    "    θ1_0 = np.radians(cfg[\"theta1_deg\"])\n",
    "    θ2_0 = np.radians(cfg[\"theta2_deg\"])\n",
    "    ω1_0 = cfg[\"omega1_0\"]\n",
    "    ω2_0 = cfg[\"omega2_0\"]\n",
    "    initial_state = [θ1_0, θ2_0, ω1_0, ω2_0]\n",
    "\n",
    "    t_eval = np.linspace(cfg[\"t_start\"], cfg[\"t_end\"], cfg[\"num_points\"])\n",
    "\n",
    "    sol = solve_ivp(\n",
    "        fun=lambda t, y: double_pendulum_derivatives(t, y, cfg),\n",
    "        t_span=(cfg[\"t_start\"], cfg[\"t_end\"]),\n",
    "        y0=initial_state,\n",
    "        t_eval=t_eval,\n",
    "        method='RK45',\n",
    "        rtol=1e-9,\n",
    "        atol=1e-9\n",
    "    )\n",
    "\n",
    "    θ1, θ2, ω1, ω2 = sol.y\n",
    "    t = sol.t\n",
    "\n",
    "    x1 = cfg[\"L1\"] * np.sin(θ1)\n",
    "    y1 = -cfg[\"L1\"] * np.cos(θ1)\n",
    "    x2 = x1 + cfg[\"L2\"] * np.sin(θ2)\n",
    "    y2 = y1 - cfg[\"L2\"] * np.cos(θ2)\n",
    "\n",
    "    return pd.DataFrame({\n",
    "        \"time\": t,\n",
    "        \"theta1\": θ1,\n",
    "        \"theta2\": θ2,\n",
    "        \"omega1\": ω1,\n",
    "        \"omega2\": ω2,\n",
    "        \"x1\": x1,\n",
    "        \"y1\": y1,\n",
    "        \"x2\": x2,\n",
    "        \"y2\": y2\n",
    "    })\n"
   ]
  },
  {
   "cell_type": "code",
   "execution_count": 10,
   "id": "865d3f31",
   "metadata": {},
   "outputs": [
    {
     "name": "stdout",
     "output_type": "stream",
     "text": [
      "📄 File found at ..\\data\\raw\\double_pendulum_simulation.csv. Loading existing data...\n"
     ]
    }
   ],
   "source": [
    "output_file = Path(CONFIG[\"output_path\"])\n",
    "output_file.parent.mkdir(parents=True, exist_ok=True)\n",
    "\n",
    "if output_file.exists():\n",
    "    print(f\"📄 File found at {output_file}. Loading existing data...\")\n",
    "    df = pd.read_csv(output_file)\n",
    "else:\n",
    "    df = run_simulation(CONFIG)\n",
    "    df.to_csv(output_file, index=False)\n",
    "    print(f\"✅ Data generated and saved to {output_file}\")\n"
   ]
  },
  {
   "cell_type": "code",
   "execution_count": 11,
   "id": "2cf59a55",
   "metadata": {},
   "outputs": [],
   "source": [
    "def compute_energies(df, cfg):\n",
    "    g = cfg[\"g\"]\n",
    "    m1 = cfg[\"m1\"]\n",
    "    m2 = cfg[\"m2\"]\n",
    "    L1 = cfg[\"L1\"]\n",
    "    L2 = cfg[\"L2\"]\n",
    "\n",
    "    θ1 = df[\"theta1\"]\n",
    "    θ2 = df[\"theta2\"]\n",
    "    ω1 = df[\"omega1\"]\n",
    "    ω2 = df[\"omega2\"]\n",
    "\n",
    "    KE1 = 0.5 * m1 * (L1**2) * ω1**2\n",
    "    KE2 = 0.5 * m2 * (\n",
    "        (L1**2 * ω1**2) +\n",
    "        (L2**2 * ω2**2) +\n",
    "        2 * L1 * L2 * ω1 * ω2 * np.cos(θ1 - θ2)\n",
    "    )\n",
    "\n",
    "    y1 = -L1 * np.cos(θ1)\n",
    "    y2 = y1 - L2 * np.cos(θ2)\n",
    "\n",
    "    PE1 = m1 * g * (y1 + L1)  \n",
    "    PE2 = m2 * g * (y2 + L1 + L2)\n",
    "\n",
    "    TME = KE1 + KE2 + PE1 + PE2\n",
    "\n",
    "    df[\"KE\"] = KE1 + KE2\n",
    "    df[\"PE\"] = PE1 + PE2\n",
    "    df[\"TME\"] = TME\n",
    "    return df\n"
   ]
  },
  {
   "cell_type": "code",
   "execution_count": 12,
   "id": "d91fb887",
   "metadata": {},
   "outputs": [
    {
     "name": "stdout",
     "output_type": "stream",
     "text": [
      "📁 Processed data saved to ..\\data\\processed\\double_pendulum_processed.csv\n"
     ]
    }
   ],
   "source": [
    "df_processed = compute_energies(df.copy(), CONFIG)\n",
    "\n",
    "processed_path = Path(\"../data/processed/double_pendulum_processed.csv\")\n",
    "processed_path.parent.mkdir(parents=True, exist_ok=True)\n",
    "df_processed.to_csv(processed_path, index=False)\n",
    "\n",
    "print(f\"📁 Processed data saved to {processed_path}\")\n"
   ]
  }
 ],
 "metadata": {
  "kernelspec": {
   "display_name": "base",
   "language": "python",
   "name": "python3"
  },
  "language_info": {
   "codemirror_mode": {
    "name": "ipython",
    "version": 3
   },
   "file_extension": ".py",
   "mimetype": "text/x-python",
   "name": "python",
   "nbconvert_exporter": "python",
   "pygments_lexer": "ipython3",
   "version": "3.12.7"
  }
 },
 "nbformat": 4,
 "nbformat_minor": 5
}
